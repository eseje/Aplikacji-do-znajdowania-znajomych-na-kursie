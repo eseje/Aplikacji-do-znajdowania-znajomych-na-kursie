{
 "cells": [
  {
   "cell_type": "code",
   "execution_count": 3,
   "id": "a4a018a9",
   "metadata": {},
   "outputs": [],
   "source": [
    "from dotenv import dotenv_values\n",
    "from qdrant_client import QdrantClient\n",
    "from qdrant_client.models import PointStruct, VectorParams, Distance\n",
    "from openai import OpenAI"
   ]
  },
  {
   "cell_type": "code",
   "execution_count": 4,
   "id": "621c348e",
   "metadata": {},
   "outputs": [],
   "source": [
    "env = dotenv_values(\".env\")"
   ]
  },
  {
   "cell_type": "code",
   "execution_count": 5,
   "id": "aad5afb5",
   "metadata": {},
   "outputs": [],
   "source": [
    "EMBEDDING_DIM=1536\n",
    "EMBEDDIING_MODEL=\"text-embedding-3-small\""
   ]
  },
  {
   "cell_type": "code",
   "execution_count": 24,
   "id": "cc85d809",
   "metadata": {},
   "outputs": [],
   "source": [
    "def get_openai_client():\n",
    "    return OpenAI(api_key=env[\"OPENAI_API_KEY\"])\n",
    "\n",
    "def get_embedding(text):\n",
    "    openai_client = get_openai_client()\n",
    "    result = openai_client.embeddings.create(\n",
    "        input=[text],\n",
    "        model=EMBEDDIING_MODEL,\n",
    "        dimensions=EMBEDDING_DIM,\n",
    "    )\n",
    "\n",
    "    return result.data[0].embedding"
   ]
  },
  {
   "cell_type": "code",
   "execution_count": 12,
   "id": "dad35fd6",
   "metadata": {},
   "outputs": [],
   "source": [
    "qdrant_client =QdrantClient(location=\":memory:\")"
   ]
  },
  {
   "cell_type": "code",
   "execution_count": 8,
   "id": "9e68c447",
   "metadata": {},
   "outputs": [],
   "source": [
    "import pandas as pd\n",
    "df=pd.read_csv(\"welcome_survey_simple_v2.csv\", sep=\";\")\n",
    "df.fillna(\"Brak\", inplace=True)"
   ]
  },
  {
   "cell_type": "code",
   "execution_count": 21,
   "id": "5a2569be",
   "metadata": {},
   "outputs": [],
   "source": [
    "df['combined'] = df.apply(lambda row: f\"{row['fav_animals']} {row['fav_place']} {row['gender']} {row['edu_level']}\", axis=1)"
   ]
  },
  {
   "cell_type": "code",
   "execution_count": 13,
   "id": "6523922f",
   "metadata": {},
   "outputs": [
    {
     "data": {
      "text/plain": [
       "False"
      ]
     },
     "execution_count": 13,
     "metadata": {},
     "output_type": "execute_result"
    }
   ],
   "source": [
    "QDRANT_COLLECTION_NAME = \"welcome_survey\"\n",
    "\n",
    "qdrant_client.collection_exists(collection_name=QDRANT_COLLECTION_NAME)"
   ]
  },
  {
   "cell_type": "code",
   "execution_count": 22,
   "id": "184b9660",
   "metadata": {},
   "outputs": [],
   "source": [
    "if not qdrant_client.collection_exists(collection_name=QDRANT_COLLECTION_NAME):\n",
    "    print(\"Tworze kolekacje\")\n",
    "    qdrant_client.create_collection(\n",
    "        collection_name=QDRANT_COLLECTION_NAME,\n",
    "        vectors_config=VectorParams(size=EMBEDDING_DIM,distance=Distance.COSINE)\n",
    "    )"
   ]
  },
  {
   "cell_type": "code",
   "execution_count": 25,
   "id": "4f69e185",
   "metadata": {},
   "outputs": [
    {
     "data": {
      "text/plain": [
       "UpdateResult(operation_id=0, status=<UpdateStatus.COMPLETED: 'completed'>)"
      ]
     },
     "execution_count": 25,
     "metadata": {},
     "output_type": "execute_result"
    }
   ],
   "source": [
    "qdrant_client.upsert(\n",
    "    collection_name=QDRANT_COLLECTION_NAME,\n",
    "    points=[\n",
    "        PointStruct(\n",
    "            id=idx,\n",
    "            vector=get_embedding(row [\"combined\"]),\n",
    "            payload={\n",
    "                \"age\": row[\"age\"],\n",
    "                \"edu_level\": row[\"edu_level\"],\n",
    "                \"fav_animals\": row[\"fav_animals\"],\n",
    "                \"fav_place\": row[\"fav_place\"],\n",
    "                \"gender\": row[\"gender\"],\n",
    "            },\n",
    "        )\n",
    "        for idx, row in df.iterrows()\n",
    "    ]\n",
    ")"
   ]
  },
  {
   "cell_type": "code",
   "execution_count": 26,
   "id": "452e53de",
   "metadata": {},
   "outputs": [],
   "source": [
    "def assure_db_collection_exists(qdrant_client,collection_name,embedding_dim):\n",
    "    if not qdrant_client.collection_exists(collection_name):\n",
    "        print(f\"Tworze kolekcje'{collection_name}'\")\n",
    "        qdrant_client.create_collection(\n",
    "            collection_name=collection_name,\n",
    "            vectors_config=VectorParams(\n",
    "                size=embedding_dim,\n",
    "                distance=Distance.COSINE,\n",
    "            ),\n",
    "        )\n",
    "    else:\n",
    "        print(f\"Kolekcja '{collection_name}' juz istnieje\")"
   ]
  },
  {
   "cell_type": "code",
   "execution_count": null,
   "id": "dec38c39",
   "metadata": {},
   "outputs": [],
   "source": [
    "def list_notes_from_db(\n",
    "    qdrant_client,\n",
    "    collection_name,\n",
    "    query=None,\n",
    "):\n",
    "    if not query:\n",
    "        notes=qdrant_client.search(collection_name=QDRANT_COLLECTION_NAME,query_vector=get_embedding(query),limit=20)[0]\n",
    "        result=[]\n",
    "        for note in notes:\n",
    "            result.append({\n",
    "                \"text\":note.payload[\"text\"],\n",
    "                \"score\":None,   \n",
    "            })\n",
    "            \n",
    "        return result\n",
    "    else:\n",
    "        notes = qdrant_client.search(\n",
    "            collection_name=collection_name,\n",
    "            query_vector=get_embedding(text=query),\n",
    "            limit=10,\n",
    "        )\n",
    "        result = []\n",
    "        for note in notes:\n",
    "            result.append({\n",
    "                \"text\": note.payload[\"text\"],\n",
    "                \"score\": note.score,\n",
    "            })\n",
    "\n",
    "        return result\n"
   ]
  }
 ],
 "metadata": {
  "kernelspec": {
   "display_name": "od_zera_do_ai",
   "language": "python",
   "name": "python3"
  },
  "language_info": {
   "codemirror_mode": {
    "name": "ipython",
    "version": 3
   },
   "file_extension": ".py",
   "mimetype": "text/x-python",
   "name": "python",
   "nbconvert_exporter": "python",
   "pygments_lexer": "ipython3",
   "version": "3.11.13"
  }
 },
 "nbformat": 4,
 "nbformat_minor": 5
}
